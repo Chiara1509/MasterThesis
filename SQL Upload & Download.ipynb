{
 "cells": [
  {
   "cell_type": "markdown",
   "id": "a0579c61",
   "metadata": {},
   "source": [
    "**SQL Uploads**"
   ]
  },
  {
   "cell_type": "markdown",
   "id": "dc1d3ed3",
   "metadata": {},
   "source": [
    "This Code uploades the csv files into the SQL Database"
   ]
  },
  {
   "cell_type": "markdown",
   "id": "8139ae54",
   "metadata": {},
   "source": [
    "Upload of Contest Hacks to SQL"
   ]
  },
  {
   "cell_type": "code",
   "execution_count": null,
   "id": "e9848bea",
   "metadata": {},
   "outputs": [],
   "source": [
    "import sqlite3\n",
    "import pandas as pd\n",
    "\n",
    "# Set the paths to the CSV file and the SQLite database\n",
    "csv_file_path = r'C:\\Users\\chfi21ab\\Desktop\\codeforces_data\\FinalTables\\ContestHacksFinalCSV.csv'\n",
    "db_file_path = r'C:\\Users\\chfi21ab\\Desktop\\codeforces_data\\SQL\\MasterThesisDB.sqlite'\n",
    "\n",
    "# Load the CSV file into a Pandas DataFrame\n",
    "df = pd.read_csv(csv_file_path)\n",
    "\n",
    "# Connect to the SQLite database\n",
    "conn = sqlite3.connect(db_file_path)\n",
    "\n",
    "# Create a new SQL table using the DataFrame schema\n",
    "df.to_sql(name='ContestHacksFinal', con=conn, if_exists='replace', index=False)\n",
    "\n",
    "# Close the database connection\n",
    "conn.close()"
   ]
  },
  {
   "cell_type": "markdown",
   "id": "77d26b4e",
   "metadata": {},
   "source": [
    "Upload of User Info to SQL"
   ]
  },
  {
   "cell_type": "code",
   "execution_count": 7,
   "id": "50d31987",
   "metadata": {},
   "outputs": [],
   "source": [
    "# Set the paths to the CSV file and the SQLite database\n",
    "csv_file_path = r'C:\\Users\\chfi21ab\\Desktop\\codeforces_data\\FinalTables\\AllUserInfo.csv'\n",
    "db_file_path = r'C:\\Users\\chfi21ab\\Desktop\\codeforces_data\\SQL\\MasterThesisDB.sqlite'\n",
    "\n",
    "# Load the CSV file into a Pandas DataFrame\n",
    "df = pd.read_csv(csv_file_path)\n",
    "\n",
    "# Connect to the SQLite database\n",
    "conn = sqlite3.connect(db_file_path)\n",
    "\n",
    "# Create a new SQL table using the DataFrame schema\n",
    "df.to_sql(name='UserInfo', con=conn, if_exists='replace', index=False)\n",
    "\n",
    "# Close the database connection\n",
    "conn.close()"
   ]
  },
  {
   "cell_type": "markdown",
   "id": "41eaf115",
   "metadata": {},
   "source": [
    "Upload of Contest Standings to SQL"
   ]
  },
  {
   "cell_type": "code",
   "execution_count": 14,
   "id": "9f7c0c11",
   "metadata": {},
   "outputs": [],
   "source": [
    "# Set the paths to the CSV file and the SQLite database\n",
    "csv_file_path = r'C:\\Users\\chfi21ab\\Desktop\\codeforces_data\\FinalTables\\ContestStandingsNew.csv'\n",
    "\n",
    "db_file_path = r'C:\\Users\\chfi21ab\\Desktop\\codeforces_data\\SQL\\MasterThesisDB.sqlite'\n",
    "\n",
    "# Load the CSV file into a Pandas DataFrame\n",
    "df = pd.read_csv(csv_file_path)\n",
    "\n",
    "# Connect to the SQLite database\n",
    "conn = sqlite3.connect(db_file_path)\n",
    "\n",
    "# Create a new SQL table using the DataFrame schema\n",
    "df.to_sql(name='ContestStandings', con=conn, if_exists='replace', index=False)\n",
    "\n",
    "# Close the database connection\n",
    "conn.close()"
   ]
  },
  {
   "cell_type": "markdown",
   "id": "7359c6e6",
   "metadata": {},
   "source": [
    "Upload of Rating Changes to SQL"
   ]
  },
  {
   "cell_type": "code",
   "execution_count": 10,
   "id": "e77aa407",
   "metadata": {},
   "outputs": [],
   "source": [
    "# Set the paths to the CSV file and the SQLite database\n",
    "csv_file_path = r'C:\\Users\\chfi21ab\\Desktop\\codeforces_data\\FinalTables\\RatingChangesFinalCSV.csv'\n",
    "db_file_path = r'C:\\Users\\chfi21ab\\Desktop\\codeforces_data\\SQL\\MasterThesisDB.sqlite'\n",
    "\n",
    "# Load the CSV file into a Pandas DataFrame\n",
    "df = pd.read_csv(csv_file_path)\n",
    "\n",
    "# Connect to the SQLite database\n",
    "conn = sqlite3.connect(db_file_path)\n",
    "\n",
    "# Create a new SQL table using the DataFrame schema\n",
    "df.to_sql(name='RatingChangesFinal', con=conn, if_exists='replace', index=False)\n",
    "\n",
    "# Close the database connection\n",
    "conn.close()"
   ]
  },
  {
   "cell_type": "markdown",
   "id": "c6602da4",
   "metadata": {},
   "source": [
    "Upload of Hofstede Dimensions to SQL"
   ]
  },
  {
   "cell_type": "code",
   "execution_count": 5,
   "id": "b2272a91",
   "metadata": {},
   "outputs": [],
   "source": [
    "# Set the paths to the Excel file and the SQLite database\n",
    "excel_file_path = r'C:\\Users\\chfi21ab\\Desktop\\codeforces_data\\FinalTables\\6-dimensions-for-website-2015-08-16.xls'\n",
    "db_file_path = r'C:\\Users\\chfi21ab\\Desktop\\codeforces_data\\SQL\\MasterThesisDB.sqlite'\n",
    "\n",
    "# Load the Excel file into a Pandas DataFrame\n",
    "df = pd.read_excel(excel_file_path)\n",
    "\n",
    "# Connect to the SQLite database\n",
    "conn = sqlite3.connect(db_file_path)\n",
    "\n",
    "# Create a new SQL table using the DataFrame schema\n",
    "df.to_sql(name='HofstedeDimensions', con=conn, if_exists='replace', index=False)\n",
    "\n",
    "# Close the database connection\n",
    "conn.close()\n"
   ]
  },
  {
   "cell_type": "markdown",
   "id": "16f57e38",
   "metadata": {},
   "source": [
    "Upload of Contest List to SQL (info> was not used for building the final dataset)"
   ]
  },
  {
   "cell_type": "code",
   "execution_count": 10,
   "id": "01e401e5",
   "metadata": {},
   "outputs": [],
   "source": [
    "# Set the paths to the CSV file and the SQLite database\n",
    "csv_file_path = r'C:\\Users\\chfi21ab\\Desktop\\codeforces_data\\FinalTables\\ContestList.csv'\n",
    "db_file_path = r'C:\\Users\\chfi21ab\\Desktop\\codeforces_data\\SQL\\MasterThesisDB.sqlite'\n",
    "\n",
    "# Load the CSV file into a Pandas DataFrame\n",
    "df = pd.read_csv(csv_file_path)\n",
    "\n",
    "# Connect to the SQLite database\n",
    "conn = sqlite3.connect(db_file_path)\n",
    "\n",
    "# Create a new SQL table using the DataFrame schema\n",
    "df.to_sql(name='ContestList', con=conn, if_exists='replace', index=False)\n",
    "\n",
    "# Close the database connection\n",
    "conn.close()"
   ]
  },
  {
   "cell_type": "markdown",
   "id": "2edd9f88",
   "metadata": {},
   "source": [
    "This code was used to merge the Contests both hackers and defenders participated in. "
   ]
  },
  {
   "cell_type": "code",
   "execution_count": 32,
   "id": "a26a565e",
   "metadata": {},
   "outputs": [],
   "source": [
    "\n",
    "# Connect to the database and load the table into a DataFrame\n",
    "conn = sqlite3.connect('C:/Users/chfi21ab/Desktop/codeforces_data/SQL/MasterThesisDB.sqlite')\n",
    "df = pd.read_sql_query(\"SELECT * FROM NewTable2\", conn)\n",
    "\n",
    "# Define a function to extract the shared contest IDs from the two columns\n",
    "def get_shared_contests(row):\n",
    "    hacker_contests = set(map(int, str(row['HackerContestIds']).split(','))) if row['HackerContestIds'] else set()\n",
    "    defender_contests = set(map(int, str(row['DefenderContestIds']).split(','))) if row['DefenderContestIds'] else set()\n",
    "    shared_contests = hacker_contests.intersection(defender_contests)\n",
    "    return ','.join(map(str, shared_contests))\n",
    "\n",
    "# Add the new column to the DataFrame using the function above\n",
    "df['PreviousContestsTogether'] = df.apply(get_shared_contests, axis=1)\n",
    "\n",
    "# Save the modified DataFrame as a new table in the database\n",
    "df.to_sql('NewTable2New', conn, if_exists='replace', index=False)\n",
    "\n",
    "# Close the database connection\n",
    "conn.close()\n"
   ]
  },
  {
   "cell_type": "markdown",
   "id": "e01c8aab",
   "metadata": {},
   "source": [
    "This file was used to upload the final dataset (after cleaning for NA values) to SQL"
   ]
  },
  {
   "cell_type": "code",
   "execution_count": null,
   "id": "3f8f242e",
   "metadata": {},
   "outputs": [],
   "source": [
    "# Set the paths to the CSV file and the SQLite database\n",
    "csv_file_path = r'C:\\Users\\chfi21ab\\Desktop\\codeforces_data\\FinalTables\\FinalTableDropNA.csv'\n",
    "db_file_path = r'C:\\Users\\chfi21ab\\Desktop\\codeforces_data\\SQL\\MasterThesisDB.sqlite'\n",
    "\n",
    "# Load the CSV file into a Pandas DataFrame\n",
    "df = pd.read_csv(csv_file_path)\n",
    "\n",
    "# Connect to the SQLite database\n",
    "conn = sqlite3.connect(db_file_path)\n",
    "\n",
    "# Create a new SQL table using the DataFrame schema\n",
    "df.to_sql(name='FinalTableDropNA', con=conn, if_exists='replace', index=False)\n",
    "\n",
    "# Close the database connection\n",
    "conn.close()"
   ]
  },
  {
   "cell_type": "markdown",
   "id": "e1aaed0e",
   "metadata": {},
   "source": [
    "This code was used to save the final Database from SQL as a CSV file"
   ]
  },
  {
   "cell_type": "code",
   "execution_count": 35,
   "id": "65362a77",
   "metadata": {},
   "outputs": [],
   "source": [
    "# Connect to the database\n",
    "conn = sqlite3.connect('C:/Users/chfi21ab/Desktop/codeforces_data/SQL/MasterThesisDB.sqlite')\n",
    "\n",
    "# Define the query to retrieve the data\n",
    "query = \"SELECT * FROM FinalTable\"\n",
    "\n",
    "# Execute the query and save the results to a pandas DataFrame\n",
    "df = pd.read_sql_query(query, conn)\n",
    "\n",
    "# Save the DataFrame to a CSV file\n",
    "df.to_csv('C:/Users/chfi21ab/Desktop/FinalTable.csv', index=False)\n",
    "\n",
    "# Close the database connection\n",
    "conn.close()\n"
   ]
  }
 ],
 "metadata": {
  "kernelspec": {
   "display_name": "Python 3 (ipykernel)",
   "language": "python",
   "name": "python3"
  },
  "language_info": {
   "codemirror_mode": {
    "name": "ipython",
    "version": 3
   },
   "file_extension": ".py",
   "mimetype": "text/x-python",
   "name": "python",
   "nbconvert_exporter": "python",
   "pygments_lexer": "ipython3",
   "version": "3.9.13"
  }
 },
 "nbformat": 4,
 "nbformat_minor": 5
}
